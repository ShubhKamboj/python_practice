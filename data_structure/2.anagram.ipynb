{
 "cells": [
  {
   "cell_type": "code",
   "execution_count": 24,
   "metadata": {},
   "outputs": [
    {
     "name": "stdout",
     "output_type": "stream",
     "text": [
      "{'q': 2, 'w': 2, 'e': 2, 'b': 2, 's': 2, 'd': 2} {'a': 2, 's': 2, 'd': 2, 'q': 2, 'w': 2, 'e': 2}\n"
     ]
    },
    {
     "data": {
      "text/plain": [
       "False"
      ]
     },
     "execution_count": 24,
     "metadata": {},
     "output_type": "execute_result"
    }
   ],
   "source": [
    "# 1 anagram leet code\n",
    "class Solution:\n",
    "    def isAnagram(self,s: str,t: str) ->bool:\n",
    "        if  len(s)!=len(t):\n",
    "            return False\n",
    "        countS,countT={},{}\n",
    "\n",
    "        for i in range(len(s)):\n",
    "            countS[s[i]]=1+countS.get(s[i],0)\n",
    "            countT[t[i]]=1+countT.get(t[i],0)\n",
    "        print(countT,countS)\n",
    "\n",
    "        for c in countS:\n",
    "            if countS[c] != countT.get(c,0):\n",
    "                return False\n",
    "        return True\n",
    "            \n",
    "    # second method.\n",
    "    \n",
    "        \n",
    "\n",
    "object1=Solution()\n",
    "s1=\"aassddqqwwee\"\n",
    "s2=\"qqwweebbssdd\"\n",
    "object1.isAnagram(s1,s2)\n",
    "\n",
    "              \n",
    "\n"
   ]
  },
  {
   "cell_type": "code",
   "execution_count": 31,
   "metadata": {},
   "outputs": [
    {
     "data": {
      "text/plain": [
       "False"
      ]
     },
     "execution_count": 31,
     "metadata": {},
     "output_type": "execute_result"
    }
   ],
   "source": [
    "# second method.\n",
    "class Anagaram:\n",
    "    def isAnagram(self,s: str,t: str) ->bool:\n",
    "        return sorted(s) == sorted(t)\n",
    "    \n",
    "\n",
    "object1=Anagaram()\n",
    "s1=\"aassddqqwwee\"\n",
    "s2=\"qqwweebbssdd\"\n",
    "object1.isAnagram(s1,s2)\n",
    "\n",
    "              "
   ]
  }
 ],
 "metadata": {
  "kernelspec": {
   "display_name": "base",
   "language": "python",
   "name": "python3"
  },
  "language_info": {
   "codemirror_mode": {
    "name": "ipython",
    "version": 3
   },
   "file_extension": ".py",
   "mimetype": "text/x-python",
   "name": "python",
   "nbconvert_exporter": "python",
   "pygments_lexer": "ipython3",
   "version": "3.8.5"
  },
  "orig_nbformat": 4
 },
 "nbformat": 4,
 "nbformat_minor": 2
}
