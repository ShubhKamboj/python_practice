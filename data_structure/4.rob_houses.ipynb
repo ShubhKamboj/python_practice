{
 "cells": [
  {
   "cell_type": "code",
   "execution_count": 29,
   "metadata": {},
   "outputs": [
    {
     "name": "stdout",
     "output_type": "stream",
     "text": [
      "[1, 2, 3, 1]\n",
      "value of n :1\n",
      "max value before 0\n",
      "rob1 and rob2 0 and 0\n",
      "value n+rob1:1+0 and rob2  0\n",
      "max value 1\n",
      "rob1 after  0\n",
      "\n",
      "[1, 2, 3, 1]\n",
      "value of n :2\n",
      "max value before 1\n",
      "rob1 and rob2 0 and 1\n",
      "value n+rob1:2+0 and rob2  1\n",
      "max value 2\n",
      "rob1 after  1\n",
      "\n",
      "[1, 2, 3, 1]\n",
      "value of n :3\n",
      "max value before 2\n",
      "rob1 and rob2 1 and 2\n",
      "value n+rob1:3+1 and rob2  2\n",
      "max value 4\n",
      "rob1 after  2\n",
      "\n",
      "[1, 2, 3, 1]\n",
      "value of n :1\n",
      "max value before 4\n",
      "rob1 and rob2 2 and 4\n",
      "value n+rob1:1+2 and rob2  4\n",
      "max value 4\n",
      "rob1 after  4\n",
      "\n"
     ]
    },
    {
     "data": {
      "text/plain": [
       "4"
      ]
     },
     "execution_count": 29,
     "metadata": {},
     "output_type": "execute_result"
    }
   ],
   "source": [
    "class solution:\n",
    "    def robHouse(self,nums: [int]) ->int:\n",
    "        rob1,rob2=0,0\n",
    "        temp=0\n",
    "\n",
    "    #rob1,rob2,n,n+1,...\n",
    "        for n in nums:\n",
    "            print(nums)\n",
    "            print(f\"\"\"value of n :{n}\"\"\")\n",
    "            print(f\"\"\"max value before {temp}\"\"\")\n",
    "            print(f\"\"\"rob1 and rob2 {rob1} and {rob2}\"\"\")\n",
    "            print(f\"\"\"value n+rob1:{n}+{rob1} and rob2  {rob2}\"\"\")\n",
    "            temp=max(n+rob1,rob2)\n",
    "            print(f\"\"\"max value {temp}\"\"\")\n",
    "            rob1=rob2\n",
    "            print(f\"\"\"rob1 after  {rob1}\\n\"\"\")\n",
    "            rob2=temp\n",
    "        return rob2\n",
    "\n",
    "\n",
    "object1=solution()\n",
    "house=[1,2,3,1]\n",
    "object1.robHouse(house)"
   ]
  }
 ],
 "metadata": {
  "kernelspec": {
   "display_name": "base",
   "language": "python",
   "name": "python3"
  },
  "language_info": {
   "codemirror_mode": {
    "name": "ipython",
    "version": 3
   },
   "file_extension": ".py",
   "mimetype": "text/x-python",
   "name": "python",
   "nbconvert_exporter": "python",
   "pygments_lexer": "ipython3",
   "version": "3.8.5"
  },
  "orig_nbformat": 4
 },
 "nbformat": 4,
 "nbformat_minor": 2
}
