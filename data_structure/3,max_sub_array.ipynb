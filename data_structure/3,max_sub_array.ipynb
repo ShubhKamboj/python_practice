{
 "cells": [
  {
   "cell_type": "code",
   "execution_count": 31,
   "metadata": {},
   "outputs": [
    {
     "name": "stdout",
     "output_type": "stream",
     "text": [
      "[-4, 1, -3, 4, -1, 2, 1, -5, 4]\n",
      "curSum initally 0\n",
      "curSum after check 0\n",
      "curSum -4\n",
      " max sub -4\n",
      " \n",
      "curSum initally -4\n",
      "curSum after check 0\n",
      "curSum 1\n",
      " max sub 1\n",
      " \n",
      "curSum initally 1\n",
      "curSum after check 1\n",
      "curSum -2\n",
      " max sub 1\n",
      " \n",
      "curSum initally -2\n",
      "curSum after check 0\n",
      "curSum 4\n",
      " max sub 4\n",
      " \n",
      "curSum initally 4\n",
      "curSum after check 4\n",
      "curSum 3\n",
      " max sub 4\n",
      " \n",
      "curSum initally 3\n",
      "curSum after check 3\n",
      "curSum 5\n",
      " max sub 5\n",
      " \n",
      "curSum initally 5\n",
      "curSum after check 5\n",
      "curSum 6\n",
      " max sub 6\n",
      " \n",
      "curSum initally 6\n",
      "curSum after check 6\n",
      "curSum 1\n",
      " max sub 6\n",
      " \n",
      "curSum initally 1\n",
      "curSum after check 1\n",
      "curSum 5\n",
      " max sub 6\n",
      " \n"
     ]
    },
    {
     "data": {
      "text/plain": [
       "6"
      ]
     },
     "execution_count": 31,
     "metadata": {},
     "output_type": "execute_result"
    }
   ],
   "source": [
    "class Solution:\n",
    "    def subarray(self) -> int:\n",
    "        \n",
    "         nums=[-4,1,-3,4,-1,2,1,-5,4]\n",
    "         print(nums)\n",
    "         maxSub=nums[0]\n",
    "         curSum=0\n",
    "\n",
    "         for n in nums:\n",
    "            print(f\"\"\"curSum initally {curSum}\"\"\")\n",
    "            if curSum<0:\n",
    "                curSum=0\n",
    "            print(f\"\"\"curSum after check {curSum}\"\"\")    \n",
    "            curSum  +=n\n",
    "            print(f\"\"\"curSum {curSum}\"\"\")\n",
    "            maxSub=max(maxSub,curSum)\n",
    "            print(f\"\"\" max sub {maxSub}\\n \"\"\")\n",
    "         return maxSub\n",
    "\n",
    "\n",
    "\n",
    "object1=Solution()\n",
    "arr=[-4,1,-3,4,-1,2,1,-5,4]\n",
    "object1.subarray()\n"
   ]
  },
  {
   "cell_type": "code",
   "execution_count": 41,
   "metadata": {},
   "outputs": [
    {
     "data": {
      "text/plain": [
       "6"
      ]
     },
     "execution_count": 41,
     "metadata": {},
     "output_type": "execute_result"
    }
   ],
   "source": [
    "class Solution:\n",
    "    def subarray(self,nums: []) -> int:\n",
    "         maxSub=nums[0]\n",
    "         curSum=0\n",
    "         for n in nums:\n",
    "            if curSum<0:\n",
    "                curSum=0\n",
    "            curSum  +=n\n",
    "            maxSub=max(maxSub,curSum)   \n",
    "         return maxSub\n",
    "\n",
    "object1=Solution()\n",
    "arr=[-4,1,-3,4,-1,2,1,-5,4]\n",
    "object1.subarray(arr)\n",
    "\n"
   ]
  }
 ],
 "metadata": {
  "kernelspec": {
   "display_name": "base",
   "language": "python",
   "name": "python3"
  },
  "language_info": {
   "codemirror_mode": {
    "name": "ipython",
    "version": 3
   },
   "file_extension": ".py",
   "mimetype": "text/x-python",
   "name": "python",
   "nbconvert_exporter": "python",
   "pygments_lexer": "ipython3",
   "version": "3.8.5"
  },
  "orig_nbformat": 4
 },
 "nbformat": 4,
 "nbformat_minor": 2
}
